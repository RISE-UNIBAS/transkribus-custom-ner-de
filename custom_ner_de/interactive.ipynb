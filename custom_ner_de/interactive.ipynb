{
 "nbformat": 4,
 "nbformat_minor": 0,
 "metadata": {
  "colab": {
   "name": "V2_Submission_Custome_NER_From_XML.ipynb",
   "provenance": [],
   "collapsed_sections": []
  },
  "kernelspec": {
   "name": "python3",
   "display_name": "Python 3"
  },
  "language_info": {
   "name": "python"
  }
 },
 "cells": [
  {
   "cell_type": "markdown",
   "source": [
    "# Binder for custom-ner-de\n",
    "\n",
    "This binder enables you to train, evaluate, and apply a custom NER model using spaCy. The only prerequisite is that you know how to annotate in and export documents from Transkribus. That's it!"
   ],
   "metadata": {
    "collapsed": false,
    "pycharm": {
     "name": "#%% md\n"
    }
   }
  },
  {
   "cell_type": "markdown",
   "source": [
    "## Train a custom NER model using spaCy with German texts annotated in Transkribus\n",
    "\n",
    "Input URL to an annotated PAGE XML Zip file exported from Transkribus (for example a public link pointing to a file on SWITCHdrive):"
   ],
   "metadata": {
    "collapsed": false,
    "pycharm": {
     "name": "#%% md\n"
    }
   }
  },
  {
   "cell_type": "code",
   "execution_count": 12,
   "outputs": [],
   "source": [
    "ZIP_URL = \"https://drive.switch.ch/index.php/s/nIF5agoktDJP3li/download\"  # change this sample URL to your own URL"
   ],
   "metadata": {
    "collapsed": false,
    "pycharm": {
     "name": "#%%\n"
    }
   }
  },
  {
   "cell_type": "markdown",
   "source": [
    "Optional inputs:"
   ],
   "metadata": {
    "collapsed": false,
    "pycharm": {
     "name": "#%% md\n"
    }
   }
  },
  {
   "cell_type": "code",
   "execution_count": 13,
   "outputs": [],
   "source": [
    "WORD_REMOVE = None  # list of words to be removed from the list of entities (false positives), e.g., WORD_REMOVE = [\"Händeklatschen\", \"Salpeter\"]\n",
    "PERSON_NAMES = None  # list of persons to be added to the model, e.g., PERSON_NAMES = [\"Max Mustermann\", \"Ada Lovelace\"]\n",
    "LOCATION_NAMES = None  # list of locations to be added to the model, e.g., LOCATION_NAMES = [\"Basel\", \"Mittelerde\"]"
   ],
   "metadata": {
    "collapsed": false,
    "pycharm": {
     "name": "#%%\n"
    }
   }
  },
  {
   "cell_type": "markdown",
   "source": [
    "Train the model (this can take some time):"
   ],
   "metadata": {
    "collapsed": false,
    "pycharm": {
     "name": "#%% md\n"
    }
   }
  },
  {
   "cell_type": "code",
   "execution_count": 14,
   "outputs": [
    {
     "name": "stdout",
     "output_type": "stream",
     "text": [
      "Downloading Zip file... done.\n",
      "Loading gold standard... done.\n",
      "Splitting gold standard into training and validation... done (training: 1531, validation: 171).\n",
      "Training 100 epochs... 1 2 3 4 5 6 7 8 9 10 11 12 13 14 15 16 17 18 19 20 21 22 23 24 25 26 27 28 29 30 31 32 33 34 35 36 37 38 39 40 41 42 43 44 45 46 47 48 49 50 51 52 53 54 55 56 57 58 59 60 61 62 63 64 65 66 67 68 69 70 71 72 73 74 75 76 77 78 79 80 81 82 83 84 85 86 87 88 89 90 91 92 93 94 95 96 97 98 99 100 \n",
      "Training completed, saved model to C:\\Users\\HINDER~1\\AppData\\Local\\Temp\\tmphd85it9j.\n"
     ]
    }
   ],
   "source": [
    "from custom_ner_de.client import Client\n",
    "my_client = Client()\n",
    "my_client.train_model(zip_url=ZIP_URL,\n",
    "                      word_remove=WORD_REMOVE,\n",
    "                      person_names=PERSON_NAMES,\n",
    "                      location_names=LOCATION_NAMES,\n",
    "                      epochs=100)"
   ],
   "metadata": {
    "collapsed": false,
    "pycharm": {
     "name": "#%%\n"
    }
   }
  },
  {
   "cell_type": "markdown",
   "source": [
    "Save the model to the `/custom-ner-de/user_output/models/` directory:"
   ],
   "metadata": {
    "collapsed": false,
    "pycharm": {
     "name": "#%% md\n"
    }
   }
  },
  {
   "cell_type": "code",
   "execution_count": 15,
   "outputs": [
    {
     "name": "stdout",
     "output_type": "stream",
     "text": [
      "Saved model to C:\\Users\\hinder0000\\PycharmProjects\\custom-ner-de/user_output/models/2022-06-27-13-51-21.\n"
     ]
    }
   ],
   "source": [
    "my_client.save_model()"
   ],
   "metadata": {
    "collapsed": false,
    "pycharm": {
     "name": "#%%\n"
    }
   }
  },
  {
   "cell_type": "markdown",
   "source": [
    "If you want to keep the model, you must download it from this directory to your local machine (Binder will reset after you close your browser).\n"
   ],
   "metadata": {
    "collapsed": false,
    "pycharm": {
     "name": "#%% md\n"
    }
   }
  },
  {
   "cell_type": "markdown",
   "source": [
    "## Evaluate a custom NER model\n",
    "\n",
    "Optional inputs:"
   ],
   "metadata": {
    "collapsed": false,
    "pycharm": {
     "name": "#%% md\n"
    }
   }
  },
  {
   "cell_type": "code",
   "execution_count": 16,
   "outputs": [],
   "source": [
    "MODEL_PATH = None  # complete path to custom NER model directory (if no input is provided, the previously trained model is loaded)"
   ],
   "metadata": {
    "collapsed": false,
    "pycharm": {
     "name": "#%%\n"
    }
   }
  },
  {
   "cell_type": "markdown",
   "source": [
    "Evaluate model:"
   ],
   "metadata": {
    "collapsed": false,
    "pycharm": {
     "name": "#%% md\n"
    }
   }
  },
  {
   "cell_type": "code",
   "execution_count": 17,
   "outputs": [
    {
     "name": "stdout",
     "output_type": "stream",
     "text": [
      "Loading custom NER model... C:\\Users\\HINDER~1\\AppData\\Local\\Temp\\tmphd85it9j loaded.\n",
      "Evaluation of C:\\Users\\HINDER~1\\AppData\\Local\\Temp\\tmphd85it9j completed.\n",
      "-- Model scores:\n",
      "Precision:  0.8282828282828283\n",
      "Recall:  0.7909967845659164\n",
      "F1 Score:  0.8092105263157895\n",
      "-- Person entity scores:\n",
      "Precision:  0.8271604938271605\n",
      "Recall:  0.7570621468926554\n",
      "F1 Score:  0.7905604719764012\n",
      "-- Location entity scores:\n",
      "Precision:  0.8296296296296296\n",
      "Recall:  0.835820895522388\n",
      "F1 Score:  0.8327137546468402\n"
     ]
    }
   ],
   "source": [
    "my_client.evaluate_model(model_path=MODEL_PATH)"
   ],
   "metadata": {
    "collapsed": false,
    "pycharm": {
     "name": "#%%\n"
    }
   }
  },
  {
   "cell_type": "markdown",
   "source": [],
   "metadata": {
    "collapsed": false,
    "pycharm": {
     "name": "#%% md\n"
    }
   }
  },
  {
   "cell_type": "markdown",
   "source": [
    "## Apply the custom NER model to new German texts transcribed in Transkribus\n",
    "\n",
    "Input URL to plain text file (for example a public link pointing to a file on SWITCHdrive) to which to custom NER model should be applied:"
   ],
   "metadata": {
    "collapsed": false,
    "pycharm": {
     "name": "#%% md\n"
    }
   }
  },
  {
   "cell_type": "code",
   "execution_count": 18,
   "outputs": [],
   "source": [
    "TEXT_URL = \"https://drive.switch.ch/index.php/s/4eBBIImulcOfMf7/download\"  # change this sample URL to your own URL"
   ],
   "metadata": {
    "collapsed": false,
    "pycharm": {
     "name": "#%%\n"
    }
   }
  },
  {
   "cell_type": "markdown",
   "source": [
    "Optional inputs:"
   ],
   "metadata": {
    "collapsed": false,
    "pycharm": {
     "name": "#%% md\n"
    }
   }
  },
  {
   "cell_type": "code",
   "execution_count": 19,
   "outputs": [],
   "source": [
    "MODEL_PATH = None  # complete path to custom NER model directory (if no input is provided, the previously trained model is loaded)"
   ],
   "metadata": {
    "collapsed": false,
    "pycharm": {
     "name": "#%%\n"
    }
   }
  },
  {
   "cell_type": "markdown",
   "source": [
    "Apply the model to the text:"
   ],
   "metadata": {
    "collapsed": false,
    "pycharm": {
     "name": "#%% md\n"
    }
   }
  },
  {
   "cell_type": "code",
   "execution_count": 20,
   "outputs": [
    {
     "name": "stdout",
     "output_type": "stream",
     "text": [
      "Downloading TXT file... done.\n",
      "Loading custom NER model... C:\\Users\\HINDER~1\\AppData\\Local\\Temp\\tmphd85it9j loaded.\n",
      "Applying custom NER model to TXT file... done.\n"
     ]
    }
   ],
   "source": [
    "my_client.apply_model(text_url=TEXT_URL,\n",
    "                      model_path=MODEL_PATH)"
   ],
   "metadata": {
    "collapsed": false,
    "pycharm": {
     "name": "#%%\n"
    }
   }
  },
  {
   "cell_type": "markdown",
   "source": [
    "Display the result:"
   ],
   "metadata": {
    "collapsed": false,
    "pycharm": {
     "name": "#%% md\n"
    }
   }
  },
  {
   "cell_type": "code",
   "execution_count": 21,
   "outputs": [
    {
     "data": {
      "text/plain": "                             text                       persons locations\n0      Stenographisches Protokoll  [Stenographisches Protokoll]        []\n1                             der                            []        []\n2                   Verhandlungen                            []        []\n3                             des                            []        []\n4                                                            []        []\n...                           ...                           ...       ...\n16564                                                        []        []\n16565                                                        []        []\n16566                                                        []        []\n16567                                                        []        []\n16568                                                        []        []\n\n[16569 rows x 3 columns]",
      "text/html": "<div>\n<style scoped>\n    .dataframe tbody tr th:only-of-type {\n        vertical-align: middle;\n    }\n\n    .dataframe tbody tr th {\n        vertical-align: top;\n    }\n\n    .dataframe thead th {\n        text-align: right;\n    }\n</style>\n<table border=\"1\" class=\"dataframe\">\n  <thead>\n    <tr style=\"text-align: right;\">\n      <th></th>\n      <th>text</th>\n      <th>persons</th>\n      <th>locations</th>\n    </tr>\n  </thead>\n  <tbody>\n    <tr>\n      <th>0</th>\n      <td>Stenographisches Protokoll</td>\n      <td>[Stenographisches Protokoll]</td>\n      <td>[]</td>\n    </tr>\n    <tr>\n      <th>1</th>\n      <td>der</td>\n      <td>[]</td>\n      <td>[]</td>\n    </tr>\n    <tr>\n      <th>2</th>\n      <td>Verhandlungen</td>\n      <td>[]</td>\n      <td>[]</td>\n    </tr>\n    <tr>\n      <th>3</th>\n      <td>des</td>\n      <td>[]</td>\n      <td>[]</td>\n    </tr>\n    <tr>\n      <th>4</th>\n      <td></td>\n      <td>[]</td>\n      <td>[]</td>\n    </tr>\n    <tr>\n      <th>...</th>\n      <td>...</td>\n      <td>...</td>\n      <td>...</td>\n    </tr>\n    <tr>\n      <th>16564</th>\n      <td></td>\n      <td>[]</td>\n      <td>[]</td>\n    </tr>\n    <tr>\n      <th>16565</th>\n      <td></td>\n      <td>[]</td>\n      <td>[]</td>\n    </tr>\n    <tr>\n      <th>16566</th>\n      <td></td>\n      <td>[]</td>\n      <td>[]</td>\n    </tr>\n    <tr>\n      <th>16567</th>\n      <td></td>\n      <td>[]</td>\n      <td>[]</td>\n    </tr>\n    <tr>\n      <th>16568</th>\n      <td></td>\n      <td>[]</td>\n      <td>[]</td>\n    </tr>\n  </tbody>\n</table>\n<p>16569 rows × 3 columns</p>\n</div>"
     },
     "execution_count": 21,
     "metadata": {},
     "output_type": "execute_result"
    }
   ],
   "source": [
    "my_client.result"
   ],
   "metadata": {
    "collapsed": false,
    "pycharm": {
     "name": "#%%\n"
    }
   }
  },
  {
   "cell_type": "markdown",
   "source": [
    "Save the result to the `/custom-ner-de/user_output/results/` directory:"
   ],
   "metadata": {
    "collapsed": false,
    "pycharm": {
     "name": "#%% md\n"
    }
   }
  },
  {
   "cell_type": "code",
   "execution_count": 22,
   "outputs": [
    {
     "name": "stdout",
     "output_type": "stream",
     "text": [
      "Saved result to C:\\Users\\hinder0000\\PycharmProjects\\custom-ner-de/user_output/results/2022-06-27-13-52-03.csv.\n"
     ]
    }
   ],
   "source": [
    "my_client.save_result2csv()"
   ],
   "metadata": {
    "collapsed": false,
    "pycharm": {
     "name": "#%%\n"
    }
   }
  },
  {
   "cell_type": "markdown",
   "source": [
    "If you want to keep the result, you must download it from this directory to your local machine (Binder will reset after you close your browser)."
   ],
   "metadata": {
    "collapsed": false,
    "pycharm": {
     "name": "#%% md\n"
    }
   }
  }
 ]
}